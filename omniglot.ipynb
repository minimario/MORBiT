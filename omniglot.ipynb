{
 "metadata": {
  "language_info": {
   "codemirror_mode": {
    "name": "ipython",
    "version": 3
   },
   "file_extension": ".py",
   "mimetype": "text/x-python",
   "name": "python",
   "nbconvert_exporter": "python",
   "pygments_lexer": "ipython3",
   "version": "3.7.10"
  },
  "orig_nbformat": 2,
  "kernelspec": {
   "name": "python3710jvsc74a57bd0c842eb500ccb71b64d518eca64d0d25bbe17d781a8339fe0a329310a99fe2a90",
   "display_name": "Python 3.7.10 64-bit ('bilevel': conda)"
  },
  "metadata": {
   "interpreter": {
    "hash": "c842eb500ccb71b64d518eca64d0d25bbe17d781a8339fe0a329310a99fe2a90"
   }
  }
 },
 "nbformat": 4,
 "nbformat_minor": 2,
 "cells": [
  {
   "cell_type": "code",
   "execution_count": 2,
   "metadata": {},
   "outputs": [],
   "source": [
    "import os\n",
    "train_dir = \"/home/minimario/Documents/bilevel/new/data/omniglot_resized/images_background\"\n",
    "eval_dir = \"/home/minimario/Documents/bilevel/new/data/omniglot_resized/images_evaluation\""
   ]
  },
  {
   "cell_type": "code",
   "execution_count": 3,
   "metadata": {
    "tags": []
   },
   "outputs": [],
   "source": [
    "from glob import glob\n",
    "g = glob(f\"{train_dir}/*\")\n",
    "alphabets = []\n",
    "for alphabet in g:\n",
    "    alphabets.append(alphabet)"
   ]
  },
  {
   "cell_type": "code",
   "execution_count": 4,
   "metadata": {},
   "outputs": [],
   "source": [
    "from PIL import Image\n",
    "import numpy as np\n",
    "\n",
    "def load_image(infilename) :\n",
    "    img = Image.open( infilename )\n",
    "    img.load()\n",
    "    data = np.asarray( img, dtype=\"int32\" )\n",
    "    return data\n",
    "\n",
    "def save_image( npdata, outfilename ) :\n",
    "    img = Image.fromarray( np.asarray( np.clip(npdata,0,255), dtype=\"uint8\"), \"L\" )\n",
    "    img.save( outfilename )"
   ]
  },
  {
   "cell_type": "code",
   "execution_count": 6,
   "metadata": {},
   "outputs": [],
   "source": [
    "import random\n",
    "import numpy as np\n",
    "def sample_batch(ways, shots):\n",
    "    alphabet_dir = alphabets[random.randint(0, len(alphabets)-1)]\n",
    "    g = glob(f\"{alphabet_dir}/*\")\n",
    "    num_characters = len(g)\n",
    "    indices = np.random.choice(num_characters, ways)\n",
    "\n",
    "    train_xs = np.zeros((ways*shots, 28, 28))    \n",
    "    train_ys = np.zeros((ways*shots), dtype=np.int)\n",
    "\n",
    "    index = 0\n",
    "    for i in range(len(indices)):\n",
    "        index = indices[i]\n",
    "        path = g[index]\n",
    "        s = random.sample(os.listdir(path), 2*shots)\n",
    "        for j in range(shots):\n",
    "            image = f\"{path}/{s[j]}\"\n",
    "            img = load_image(image)\n",
    "            train_xs[index] = img\n",
    "            train_ys[index] = i\n",
    "            index += 1\n",
    "\n",
    "    return train_xs, train_ys"
   ]
  },
  {
   "cell_type": "code",
   "execution_count": 7,
   "metadata": {},
   "outputs": [
    {
     "output_type": "stream",
     "name": "stderr",
     "text": [
      "/home/minimario/anaconda3/lib/python3.7/site-packages/ipykernel_launcher.py:10: DeprecationWarning: `np.int` is a deprecated alias for the builtin `int`. To silence this warning, use `int` by itself. Doing this will not modify any behavior and is safe. When replacing `np.int`, you may wish to use e.g. `np.int64` or `np.int32` to specify the precision. If you wish to review your current use, check the release note link for additional information.\nDeprecated in NumPy 1.20; for more details and guidance: https://numpy.org/devdocs/release/1.20.0-notes.html#deprecations\n  # Remove the CWD from sys.path while we load stuff.\n"
     ]
    }
   ],
   "source": [
    "xs, ys = sample_batch(10, 5)"
   ]
  }
 ]
}